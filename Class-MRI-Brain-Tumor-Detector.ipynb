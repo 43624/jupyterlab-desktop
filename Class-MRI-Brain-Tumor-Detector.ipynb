{
 "cells": [
  {
   "cell_type": "markdown",
   "id": "2e86bb15-a146-4bda-8e2c-d2246e67daed",
   "metadata": {},
   "source": [
    "# Finding MRI Brain tumor detection dataset"
   ]
  },
  {
   "cell_type": "markdown",
   "id": "69d10db1-b017-4c26-8279-0d7b37f75648",
   "metadata": {},
   "source": [
    "Let's find the dataset in this link:"
   ]
  },
  {
   "cell_type": "markdown",
   "id": "09df50ef-e108-4366-8df7-13f98b8fb647",
   "metadata": {},
   "source": [
    "# import pakages"
   ]
  },
  {
   "cell_type": "code",
   "execution_count": 5,
   "id": "adaa807c-e7c9-448f-ab5b-6fb25f5dd0e2",
   "metadata": {},
   "outputs": [],
   "source": [
    "import numpy as np\n",
    "import torch\n",
    "import glob\n",
    "import cv2"
   ]
  },
  {
   "cell_type": "code",
   "execution_count": null,
   "id": "9b1b588a-fe33-44f9-b0ff-0a217357971b",
   "metadata": {},
   "outputs": [],
   "source": []
  }
 ],
 "metadata": {
  "kernelspec": {
   "display_name": "Python 3 (ipykernel)",
   "language": "python",
   "name": "python3"
  },
  "language_info": {
   "codemirror_mode": {
    "name": "ipython",
    "version": 3
   },
   "file_extension": ".py",
   "mimetype": "text/x-python",
   "name": "python",
   "nbconvert_exporter": "python",
   "pygments_lexer": "ipython3",
   "version": "3.12.0"
  }
 },
 "nbformat": 4,
 "nbformat_minor": 5
}
